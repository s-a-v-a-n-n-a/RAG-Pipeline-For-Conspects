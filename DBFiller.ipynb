{
 "cells": [
  {
   "cell_type": "markdown",
   "metadata": {},
   "source": [
    "# Наполнение базы данных.\n",
    "\n",
    "Данные для наполнения берутся с сайта [викиконспектов](https://neerc.ifmo.ru/wiki/index.php?title=%D0%97%D0%B0%D0%B3%D0%BB%D0%B0%D0%B2%D0%BD%D0%B0%D1%8F_%D1%81%D1%82%D1%80%D0%B0%D0%BD%D0%B8%D1%86%D0%B0) от университета ИТМО. Скачиваемые данные очищаются от HTML-тегов, пишутся в текстовые файлы по темам, которые кладутся в директорию `text_db`."
   ]
  },
  {
   "cell_type": "code",
   "execution_count": 86,
   "metadata": {},
   "outputs": [
    {
     "name": "stdout",
     "output_type": "stream",
     "text": [
      "Looking in indexes: https://pypi.org/simple, https://pypi.ngc.nvidia.comNote: you may need to restart the kernel to use updated packages.\n",
      "\n",
      "Requirement already satisfied: requests in c:\\users\\savch\\appdata\\local\\packages\\pythonsoftwarefoundation.python.3.10_qbz5n2kfra8p0\\localcache\\local-packages\\python310\\site-packages (2.32.3)\n",
      "Requirement already satisfied: beautifulsoup4 in c:\\users\\savch\\appdata\\local\\packages\\pythonsoftwarefoundation.python.3.10_qbz5n2kfra8p0\\localcache\\local-packages\\python310\\site-packages (4.12.3)\n",
      "Requirement already satisfied: mwparserfromhell in c:\\users\\savch\\appdata\\local\\packages\\pythonsoftwarefoundation.python.3.10_qbz5n2kfra8p0\\localcache\\local-packages\\python310\\site-packages (0.6.6)\n",
      "Requirement already satisfied: wikitextparser in c:\\users\\savch\\appdata\\local\\packages\\pythonsoftwarefoundation.python.3.10_qbz5n2kfra8p0\\localcache\\local-packages\\python310\\site-packages (0.56.3)\n",
      "Requirement already satisfied: pywikibot in c:\\users\\savch\\appdata\\local\\packages\\pythonsoftwarefoundation.python.3.10_qbz5n2kfra8p0\\localcache\\local-packages\\python310\\site-packages (9.6.1)\n",
      "Requirement already satisfied: charset-normalizer<4,>=2 in c:\\users\\savch\\appdata\\local\\packages\\pythonsoftwarefoundation.python.3.10_qbz5n2kfra8p0\\localcache\\local-packages\\python310\\site-packages (from requests) (3.4.1)\n",
      "Requirement already satisfied: idna<4,>=2.5 in c:\\users\\savch\\appdata\\local\\packages\\pythonsoftwarefoundation.python.3.10_qbz5n2kfra8p0\\localcache\\local-packages\\python310\\site-packages (from requests) (3.10)\n",
      "Requirement already satisfied: certifi>=2017.4.17 in c:\\users\\savch\\appdata\\local\\packages\\pythonsoftwarefoundation.python.3.10_qbz5n2kfra8p0\\localcache\\local-packages\\python310\\site-packages (from requests) (2024.12.14)\n",
      "Requirement already satisfied: urllib3<3,>=1.21.1 in c:\\users\\savch\\appdata\\local\\packages\\pythonsoftwarefoundation.python.3.10_qbz5n2kfra8p0\\localcache\\local-packages\\python310\\site-packages (from requests) (2.3.0)\n",
      "Requirement already satisfied: soupsieve>1.2 in c:\\users\\savch\\appdata\\local\\packages\\pythonsoftwarefoundation.python.3.10_qbz5n2kfra8p0\\localcache\\local-packages\\python310\\site-packages (from beautifulsoup4) (2.6)\n",
      "Requirement already satisfied: regex>=2022.9.11 in c:\\users\\savch\\appdata\\local\\packages\\pythonsoftwarefoundation.python.3.10_qbz5n2kfra8p0\\localcache\\local-packages\\python310\\site-packages (from wikitextparser) (2024.11.6)\n",
      "Requirement already satisfied: wcwidth in c:\\users\\savch\\appdata\\local\\packages\\pythonsoftwarefoundation.python.3.10_qbz5n2kfra8p0\\localcache\\local-packages\\python310\\site-packages (from wikitextparser) (0.2.13)\n",
      "Requirement already satisfied: packaging in c:\\users\\savch\\appdata\\local\\packages\\pythonsoftwarefoundation.python.3.10_qbz5n2kfra8p0\\localcache\\local-packages\\python310\\site-packages (from pywikibot) (24.2)\n"
     ]
    },
    {
     "name": "stderr",
     "output_type": "stream",
     "text": [
      "\n",
      "[notice] A new release of pip is available: 23.0.1 -> 24.3.1\n",
      "[notice] To update, run: C:\\Users\\savch\\AppData\\Local\\Microsoft\\WindowsApps\\PythonSoftwareFoundation.Python.3.10_qbz5n2kfra8p0\\python.exe -m pip install --upgrade pip\n"
     ]
    }
   ],
   "source": [
    "%pip install requests beautifulsoup4 mwparserfromhell wikitextparser pywikibot"
   ]
  },
  {
   "cell_type": "code",
   "execution_count": 87,
   "metadata": {},
   "outputs": [],
   "source": [
    "from bs4 import BeautifulSoup\n",
    "import mwparserfromhell\n",
    "import wikitextparser\n",
    "from pywikibot import textlib\n",
    "import re\n",
    "\n",
    "def get_text(node, trim=False):\n",
    "    if node is None:\n",
    "        return \"\"\n",
    "    res = node.find_all(r\"\\<[/\\w]+\\>\", recursive=False)\n",
    "    if res:\n",
    "        if trim:\n",
    "            res = list(res)[1:-1]\n",
    "        return '\\n'.join(get_text(part) for part in res)\n",
    "    else:\n",
    "        return node.get_text()\n",
    "    \n",
    "def extract(html):\n",
    "    soup = BeautifulSoup(html, \"html.parser\")\n",
    "    art = soup.find(\"article\")\n",
    "    return get_text(html, True)\n",
    "\n",
    "def clean_wikitext(wikitext):\n",
    "    text = textlib.removeHTMLParts(wikitext, keeptags=[])\n",
    "    text.replace(\"\\{\\{\", \"\").replace(\"\\}\\}\", \"\").replace(\"|\", \"\")\n",
    "    return text"
   ]
  },
  {
   "cell_type": "code",
   "execution_count": 88,
   "metadata": {},
   "outputs": [],
   "source": [
    "import requests\n",
    "\n",
    "url = \"https://neerc.itmo.ru/wiki/api.php\"\n",
    "\n",
    "def get_web_content(title):\n",
    "    parameters = {\n",
    "       \"action\": \"query\",\n",
    "        \"prop\": \"revisions\",\n",
    "        \"titles\": title,\n",
    "        \"rvprop\": \"content\",\n",
    "        \"format\": \"json\"\n",
    "    }\n",
    "\n",
    "    response = requests.get(url, params=parameters)\n",
    "    data = response.json()\n",
    "    pages = data['query']['pages']\n",
    "    for page_id, page_info in pages.items():\n",
    "        if page_id != \"-1\": \n",
    "            return page_info['revisions'][0]['*']\n",
    "        else:\n",
    "            return None"
   ]
  },
  {
   "cell_type": "code",
   "execution_count": 89,
   "metadata": {},
   "outputs": [],
   "source": [
    "def write_to_file(conspects, filename):\n",
    "    with open(filename, \"w\", encoding=\"utf-8\") as conspects_file:\n",
    "        for title in conspects:\n",
    "            conspects_file.write(conspects[title])\n",
    "            conspects_file.write('-----')"
   ]
  },
  {
   "cell_type": "code",
   "execution_count": 90,
   "metadata": {},
   "outputs": [],
   "source": [
    "def get_content(titles):\n",
    "    content = {\n",
    "        title: \"\" for title in titles\n",
    "    }\n",
    "    for title in titles:\n",
    "        content[title] = str(clean_wikitext(get_web_content(title)))\n",
    "\n",
    "    return content"
   ]
  },
  {
   "cell_type": "code",
   "execution_count": 93,
   "metadata": {},
   "outputs": [],
   "source": [
    "titles = [\n",
    "    \"Основные_определения,_связанные_со_строками\",\n",
    "    \"Регулярные_языки:_два_определения_и_их_эквивалентность\",\n",
    "    \"Детерминированные_конечные_автоматы\",\n",
    "    \"Прямое_произведение_ДКА\",\n",
    "    \"Преобразование_регулярного_выражения_в_ДКА\",\n",
    "    \"Недетерминированные_конечные_автоматы\",\n",
    "    \"Построение_по_НКА_эквивалентного_ДКА,_алгоритм_Томпсона\",\n",
    "    \"Автоматы_с_eps-переходами._Eps-замыкание\",\n",
    "    \"Эквивалентность_состояний_ДКА\",\n",
    "    \"Минимизация_ДКА,_алгоритм_Хопкрофта_(сложность_O(n_log_n))\",  \n",
    "    \"Доказательство_нерегулярности_языков:_лемма_о_разрастании\",\n",
    "    \"Решение_уравнений_в_регулярных_выражениях\",\n",
    "    \"Формальные_грамматики\",\n",
    "    \"Иерархия_Хомского_формальных_грамматик\",\n",
    "    \"Неукорачивающие_и_контекстно-зависимые_грамматики,_эквивалентность\",\n",
    "    \"Правоконтекстные_грамматики,_эквивалентность_автоматам\"\n",
    "]"
   ]
  },
  {
   "cell_type": "code",
   "execution_count": 94,
   "metadata": {},
   "outputs": [],
   "source": [
    "content = get_content(titles)\n",
    "write_to_file(content, \"text_db/formal_languages.txt\")"
   ]
  }
 ],
 "metadata": {
  "kernelspec": {
   "display_name": "Python 3",
   "language": "python",
   "name": "python3"
  },
  "language_info": {
   "codemirror_mode": {
    "name": "ipython",
    "version": 3
   },
   "file_extension": ".py",
   "mimetype": "text/x-python",
   "name": "python",
   "nbconvert_exporter": "python",
   "pygments_lexer": "ipython3",
   "version": "3.10.11"
  }
 },
 "nbformat": 4,
 "nbformat_minor": 2
}
