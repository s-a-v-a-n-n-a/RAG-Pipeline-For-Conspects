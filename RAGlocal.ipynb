{
 "cells": [
  {
   "cell_type": "markdown",
   "metadata": {},
   "source": [
    "# Необходимо поднять RAG-pipeline на базе конспектов.\n",
    "\n",
    "В качестве базы конспектов были выбраны викиконспекты от университета ИТМО по предмету \"Алгоритмы и структуры данных\". По информации об их crawling'е обратите внимание на ноутбук `DBFiller.ipynb`."
   ]
  },
  {
   "cell_type": "markdown",
   "metadata": {},
   "source": [
    "## Подготовка"
   ]
  },
  {
   "cell_type": "code",
   "execution_count": 1,
   "metadata": {},
   "outputs": [
    {
     "name": "stdout",
     "output_type": "stream",
     "text": [
      "unzip:  cannot find or open chroma_db.zip, chroma_db.zip.zip or chroma_db.zip.ZIP.\n"
     ]
    }
   ],
   "source": [
    "# Run if exists\n",
    "!unzip -q chroma_db.zip"
   ]
  },
  {
   "cell_type": "markdown",
   "metadata": {},
   "source": [
    "Установим зависимости"
   ]
  },
  {
   "cell_type": "code",
   "execution_count": 2,
   "metadata": {},
   "outputs": [
    {
     "name": "stdout",
     "output_type": "stream",
     "text": [
      "Requirement already satisfied: requests in /mnt/sdb/savanna/Repositories/RAG/venv/lib/python3.10/site-packages (2.32.3)\n",
      "Requirement already satisfied: pypdf in /mnt/sdb/savanna/Repositories/RAG/venv/lib/python3.10/site-packages (5.1.0)\n",
      "Requirement already satisfied: tiktoken in /mnt/sdb/savanna/Repositories/RAG/venv/lib/python3.10/site-packages (0.8.0)\n",
      "Requirement already satisfied: urllib3<3,>=1.21.1 in /mnt/sdb/savanna/Repositories/RAG/venv/lib/python3.10/site-packages (from requests) (2.3.0)\n",
      "Requirement already satisfied: charset-normalizer<4,>=2 in /mnt/sdb/savanna/Repositories/RAG/venv/lib/python3.10/site-packages (from requests) (3.4.1)\n",
      "Requirement already satisfied: idna<4,>=2.5 in /mnt/sdb/savanna/Repositories/RAG/venv/lib/python3.10/site-packages (from requests) (3.10)\n",
      "Requirement already satisfied: certifi>=2017.4.17 in /mnt/sdb/savanna/Repositories/RAG/venv/lib/python3.10/site-packages (from requests) (2024.12.14)\n",
      "Requirement already satisfied: typing_extensions>=4.0 in /mnt/sdb/savanna/Repositories/RAG/venv/lib/python3.10/site-packages (from pypdf) (4.12.2)\n",
      "Requirement already satisfied: regex>=2022.1.18 in /mnt/sdb/savanna/Repositories/RAG/venv/lib/python3.10/site-packages (from tiktoken) (2024.11.6)\n",
      "Note: you may need to restart the kernel to use updated packages.\n",
      "Requirement already satisfied: langchain in /mnt/sdb/savanna/Repositories/RAG/venv/lib/python3.10/site-packages (0.3.15)\n",
      "Requirement already satisfied: langchain-chroma in /mnt/sdb/savanna/Repositories/RAG/venv/lib/python3.10/site-packages (0.2.0)\n",
      "Requirement already satisfied: chromadb in /mnt/sdb/savanna/Repositories/RAG/venv/lib/python3.10/site-packages (0.5.23)\n",
      "Requirement already satisfied: langchain-core<0.4.0,>=0.3.31 in /mnt/sdb/savanna/Repositories/RAG/venv/lib/python3.10/site-packages (from langchain) (0.3.31)\n",
      "Requirement already satisfied: langsmith<0.4,>=0.1.17 in /mnt/sdb/savanna/Repositories/RAG/venv/lib/python3.10/site-packages (from langchain) (0.1.147)\n",
      "Requirement already satisfied: PyYAML>=5.3 in /mnt/sdb/savanna/Repositories/RAG/venv/lib/python3.10/site-packages (from langchain) (6.0.2)\n",
      "Requirement already satisfied: aiohttp<4.0.0,>=3.8.3 in /mnt/sdb/savanna/Repositories/RAG/venv/lib/python3.10/site-packages (from langchain) (3.11.11)\n",
      "Requirement already satisfied: langchain-text-splitters<0.4.0,>=0.3.3 in /mnt/sdb/savanna/Repositories/RAG/venv/lib/python3.10/site-packages (from langchain) (0.3.5)\n",
      "Requirement already satisfied: SQLAlchemy<3,>=1.4 in /mnt/sdb/savanna/Repositories/RAG/venv/lib/python3.10/site-packages (from langchain) (2.0.37)\n",
      "Requirement already satisfied: requests<3,>=2 in /mnt/sdb/savanna/Repositories/RAG/venv/lib/python3.10/site-packages (from langchain) (2.32.3)\n",
      "Requirement already satisfied: pydantic<3.0.0,>=2.7.4 in /mnt/sdb/savanna/Repositories/RAG/venv/lib/python3.10/site-packages (from langchain) (2.10.5)\n",
      "Requirement already satisfied: numpy<2,>=1.22.4 in /mnt/sdb/savanna/Repositories/RAG/venv/lib/python3.10/site-packages (from langchain) (1.26.4)\n",
      "Requirement already satisfied: async-timeout<5.0.0,>=4.0.0 in /mnt/sdb/savanna/Repositories/RAG/venv/lib/python3.10/site-packages (from langchain) (4.0.3)\n",
      "Requirement already satisfied: tenacity!=8.4.0,<10,>=8.1.0 in /mnt/sdb/savanna/Repositories/RAG/venv/lib/python3.10/site-packages (from langchain) (8.5.0)\n",
      "Requirement already satisfied: fastapi<1,>=0.95.2 in /mnt/sdb/savanna/Repositories/RAG/venv/lib/python3.10/site-packages (from langchain-chroma) (0.115.6)\n",
      "Requirement already satisfied: opentelemetry-sdk>=1.2.0 in /mnt/sdb/savanna/Repositories/RAG/venv/lib/python3.10/site-packages (from chromadb) (1.29.0)\n",
      "Requirement already satisfied: chroma-hnswlib==0.7.6 in /mnt/sdb/savanna/Repositories/RAG/venv/lib/python3.10/site-packages (from chromadb) (0.7.6)\n",
      "Requirement already satisfied: tqdm>=4.65.0 in /mnt/sdb/savanna/Repositories/RAG/venv/lib/python3.10/site-packages (from chromadb) (4.67.1)\n",
      "Requirement already satisfied: pypika>=0.48.9 in /mnt/sdb/savanna/Repositories/RAG/venv/lib/python3.10/site-packages (from chromadb) (0.48.9)\n",
      "Requirement already satisfied: onnxruntime>=1.14.1 in /mnt/sdb/savanna/Repositories/RAG/venv/lib/python3.10/site-packages (from chromadb) (1.20.1)\n",
      "Requirement already satisfied: typing_extensions>=4.5.0 in /mnt/sdb/savanna/Repositories/RAG/venv/lib/python3.10/site-packages (from chromadb) (4.12.2)\n",
      "Requirement already satisfied: opentelemetry-api>=1.2.0 in /mnt/sdb/savanna/Repositories/RAG/venv/lib/python3.10/site-packages (from chromadb) (1.29.0)\n",
      "Requirement already satisfied: bcrypt>=4.0.1 in /mnt/sdb/savanna/Repositories/RAG/venv/lib/python3.10/site-packages (from chromadb) (4.2.1)\n",
      "Requirement already satisfied: orjson>=3.9.12 in /mnt/sdb/savanna/Repositories/RAG/venv/lib/python3.10/site-packages (from chromadb) (3.10.15)\n",
      "Requirement already satisfied: importlib-resources in /mnt/sdb/savanna/Repositories/RAG/venv/lib/python3.10/site-packages (from chromadb) (6.5.2)\n",
      "Requirement already satisfied: grpcio>=1.58.0 in /mnt/sdb/savanna/Repositories/RAG/venv/lib/python3.10/site-packages (from chromadb) (1.69.0)\n",
      "Requirement already satisfied: tokenizers<=0.20.3,>=0.13.2 in /mnt/sdb/savanna/Repositories/RAG/venv/lib/python3.10/site-packages (from chromadb) (0.20.3)\n",
      "Requirement already satisfied: overrides>=7.3.1 in /mnt/sdb/savanna/Repositories/RAG/venv/lib/python3.10/site-packages (from chromadb) (7.7.0)\n",
      "Requirement already satisfied: mmh3>=4.0.1 in /mnt/sdb/savanna/Repositories/RAG/venv/lib/python3.10/site-packages (from chromadb) (5.0.1)\n",
      "Requirement already satisfied: build>=1.0.3 in /mnt/sdb/savanna/Repositories/RAG/venv/lib/python3.10/site-packages (from chromadb) (1.2.2.post1)\n",
      "Requirement already satisfied: posthog>=2.4.0 in /mnt/sdb/savanna/Repositories/RAG/venv/lib/python3.10/site-packages (from chromadb) (3.8.4)\n",
      "Requirement already satisfied: rich>=10.11.0 in /mnt/sdb/savanna/Repositories/RAG/venv/lib/python3.10/site-packages (from chromadb) (13.9.4)\n",
      "Requirement already satisfied: typer>=0.9.0 in /mnt/sdb/savanna/Repositories/RAG/venv/lib/python3.10/site-packages (from chromadb) (0.15.1)\n",
      "Requirement already satisfied: opentelemetry-instrumentation-fastapi>=0.41b0 in /mnt/sdb/savanna/Repositories/RAG/venv/lib/python3.10/site-packages (from chromadb) (0.50b0)\n",
      "Requirement already satisfied: uvicorn[standard]>=0.18.3 in /mnt/sdb/savanna/Repositories/RAG/venv/lib/python3.10/site-packages (from chromadb) (0.34.0)\n",
      "Requirement already satisfied: kubernetes>=28.1.0 in /mnt/sdb/savanna/Repositories/RAG/venv/lib/python3.10/site-packages (from chromadb) (31.0.0)\n",
      "Requirement already satisfied: opentelemetry-exporter-otlp-proto-grpc>=1.2.0 in /mnt/sdb/savanna/Repositories/RAG/venv/lib/python3.10/site-packages (from chromadb) (1.29.0)\n",
      "Requirement already satisfied: httpx>=0.27.0 in /mnt/sdb/savanna/Repositories/RAG/venv/lib/python3.10/site-packages (from chromadb) (0.27.2)\n",
      "Requirement already satisfied: multidict<7.0,>=4.5 in /mnt/sdb/savanna/Repositories/RAG/venv/lib/python3.10/site-packages (from aiohttp<4.0.0,>=3.8.3->langchain) (6.1.0)\n",
      "Requirement already satisfied: propcache>=0.2.0 in /mnt/sdb/savanna/Repositories/RAG/venv/lib/python3.10/site-packages (from aiohttp<4.0.0,>=3.8.3->langchain) (0.2.1)\n",
      "Requirement already satisfied: frozenlist>=1.1.1 in /mnt/sdb/savanna/Repositories/RAG/venv/lib/python3.10/site-packages (from aiohttp<4.0.0,>=3.8.3->langchain) (1.5.0)\n",
      "Requirement already satisfied: aiohappyeyeballs>=2.3.0 in /mnt/sdb/savanna/Repositories/RAG/venv/lib/python3.10/site-packages (from aiohttp<4.0.0,>=3.8.3->langchain) (2.4.4)\n",
      "Requirement already satisfied: attrs>=17.3.0 in /mnt/sdb/savanna/Repositories/RAG/venv/lib/python3.10/site-packages (from aiohttp<4.0.0,>=3.8.3->langchain) (24.3.0)\n",
      "Requirement already satisfied: yarl<2.0,>=1.17.0 in /mnt/sdb/savanna/Repositories/RAG/venv/lib/python3.10/site-packages (from aiohttp<4.0.0,>=3.8.3->langchain) (1.18.3)\n",
      "Requirement already satisfied: aiosignal>=1.1.2 in /mnt/sdb/savanna/Repositories/RAG/venv/lib/python3.10/site-packages (from aiohttp<4.0.0,>=3.8.3->langchain) (1.3.2)\n",
      "Requirement already satisfied: tomli>=1.1.0 in /mnt/sdb/savanna/Repositories/RAG/venv/lib/python3.10/site-packages (from build>=1.0.3->chromadb) (2.2.1)\n",
      "Requirement already satisfied: pyproject_hooks in /mnt/sdb/savanna/Repositories/RAG/venv/lib/python3.10/site-packages (from build>=1.0.3->chromadb) (1.2.0)\n",
      "Requirement already satisfied: packaging>=19.1 in /mnt/sdb/savanna/Repositories/RAG/venv/lib/python3.10/site-packages (from build>=1.0.3->chromadb) (24.2)\n",
      "Requirement already satisfied: starlette<0.42.0,>=0.40.0 in /mnt/sdb/savanna/Repositories/RAG/venv/lib/python3.10/site-packages (from fastapi<1,>=0.95.2->langchain-chroma) (0.41.3)\n",
      "Requirement already satisfied: certifi in /mnt/sdb/savanna/Repositories/RAG/venv/lib/python3.10/site-packages (from httpx>=0.27.0->chromadb) (2024.12.14)\n",
      "Requirement already satisfied: httpcore==1.* in /mnt/sdb/savanna/Repositories/RAG/venv/lib/python3.10/site-packages (from httpx>=0.27.0->chromadb) (1.0.7)\n",
      "Requirement already satisfied: idna in /mnt/sdb/savanna/Repositories/RAG/venv/lib/python3.10/site-packages (from httpx>=0.27.0->chromadb) (3.10)\n",
      "Requirement already satisfied: anyio in /mnt/sdb/savanna/Repositories/RAG/venv/lib/python3.10/site-packages (from httpx>=0.27.0->chromadb) (4.8.0)\n",
      "Requirement already satisfied: sniffio in /mnt/sdb/savanna/Repositories/RAG/venv/lib/python3.10/site-packages (from httpx>=0.27.0->chromadb) (1.3.1)\n",
      "Requirement already satisfied: h11<0.15,>=0.13 in /mnt/sdb/savanna/Repositories/RAG/venv/lib/python3.10/site-packages (from httpcore==1.*->httpx>=0.27.0->chromadb) (0.14.0)\n",
      "Requirement already satisfied: google-auth>=1.0.1 in /mnt/sdb/savanna/Repositories/RAG/venv/lib/python3.10/site-packages (from kubernetes>=28.1.0->chromadb) (2.37.0)\n",
      "Requirement already satisfied: python-dateutil>=2.5.3 in /mnt/sdb/savanna/Repositories/RAG/venv/lib/python3.10/site-packages (from kubernetes>=28.1.0->chromadb) (2.9.0.post0)\n",
      "Requirement already satisfied: oauthlib>=3.2.2 in /mnt/sdb/savanna/Repositories/RAG/venv/lib/python3.10/site-packages (from kubernetes>=28.1.0->chromadb) (3.2.2)\n",
      "Requirement already satisfied: websocket-client!=0.40.0,!=0.41.*,!=0.42.*,>=0.32.0 in /mnt/sdb/savanna/Repositories/RAG/venv/lib/python3.10/site-packages (from kubernetes>=28.1.0->chromadb) (1.8.0)\n",
      "Requirement already satisfied: six>=1.9.0 in /mnt/sdb/savanna/Repositories/RAG/venv/lib/python3.10/site-packages (from kubernetes>=28.1.0->chromadb) (1.17.0)\n",
      "Requirement already satisfied: durationpy>=0.7 in /mnt/sdb/savanna/Repositories/RAG/venv/lib/python3.10/site-packages (from kubernetes>=28.1.0->chromadb) (0.9)\n",
      "Requirement already satisfied: urllib3>=1.24.2 in /mnt/sdb/savanna/Repositories/RAG/venv/lib/python3.10/site-packages (from kubernetes>=28.1.0->chromadb) (2.3.0)\n",
      "Requirement already satisfied: requests-oauthlib in /mnt/sdb/savanna/Repositories/RAG/venv/lib/python3.10/site-packages (from kubernetes>=28.1.0->chromadb) (2.0.0)\n",
      "Requirement already satisfied: jsonpatch<2.0,>=1.33 in /mnt/sdb/savanna/Repositories/RAG/venv/lib/python3.10/site-packages (from langchain-core<0.4.0,>=0.3.31->langchain) (1.33)\n",
      "Requirement already satisfied: requests-toolbelt<2.0.0,>=1.0.0 in /mnt/sdb/savanna/Repositories/RAG/venv/lib/python3.10/site-packages (from langsmith<0.4,>=0.1.17->langchain) (1.0.0)\n",
      "Requirement already satisfied: sympy in /mnt/sdb/savanna/Repositories/RAG/venv/lib/python3.10/site-packages (from onnxruntime>=1.14.1->chromadb) (1.13.3)\n",
      "Requirement already satisfied: coloredlogs in /mnt/sdb/savanna/Repositories/RAG/venv/lib/python3.10/site-packages (from onnxruntime>=1.14.1->chromadb) (15.0.1)\n",
      "Requirement already satisfied: flatbuffers in /mnt/sdb/savanna/Repositories/RAG/venv/lib/python3.10/site-packages (from onnxruntime>=1.14.1->chromadb) (24.12.23)\n",
      "Requirement already satisfied: protobuf in /mnt/sdb/savanna/Repositories/RAG/venv/lib/python3.10/site-packages (from onnxruntime>=1.14.1->chromadb) (5.29.3)\n",
      "Requirement already satisfied: importlib-metadata<=8.5.0,>=6.0 in /mnt/sdb/savanna/Repositories/RAG/venv/lib/python3.10/site-packages (from opentelemetry-api>=1.2.0->chromadb) (8.5.0)\n",
      "Requirement already satisfied: deprecated>=1.2.6 in /mnt/sdb/savanna/Repositories/RAG/venv/lib/python3.10/site-packages (from opentelemetry-api>=1.2.0->chromadb) (1.2.15)\n",
      "Requirement already satisfied: googleapis-common-protos~=1.52 in /mnt/sdb/savanna/Repositories/RAG/venv/lib/python3.10/site-packages (from opentelemetry-exporter-otlp-proto-grpc>=1.2.0->chromadb) (1.66.0)\n",
      "Requirement already satisfied: opentelemetry-exporter-otlp-proto-common==1.29.0 in /mnt/sdb/savanna/Repositories/RAG/venv/lib/python3.10/site-packages (from opentelemetry-exporter-otlp-proto-grpc>=1.2.0->chromadb) (1.29.0)\n",
      "Requirement already satisfied: opentelemetry-proto==1.29.0 in /mnt/sdb/savanna/Repositories/RAG/venv/lib/python3.10/site-packages (from opentelemetry-exporter-otlp-proto-grpc>=1.2.0->chromadb) (1.29.0)\n",
      "Requirement already satisfied: opentelemetry-semantic-conventions==0.50b0 in /mnt/sdb/savanna/Repositories/RAG/venv/lib/python3.10/site-packages (from opentelemetry-instrumentation-fastapi>=0.41b0->chromadb) (0.50b0)\n",
      "Requirement already satisfied: opentelemetry-instrumentation==0.50b0 in /mnt/sdb/savanna/Repositories/RAG/venv/lib/python3.10/site-packages (from opentelemetry-instrumentation-fastapi>=0.41b0->chromadb) (0.50b0)\n",
      "Requirement already satisfied: opentelemetry-util-http==0.50b0 in /mnt/sdb/savanna/Repositories/RAG/venv/lib/python3.10/site-packages (from opentelemetry-instrumentation-fastapi>=0.41b0->chromadb) (0.50b0)\n",
      "Requirement already satisfied: opentelemetry-instrumentation-asgi==0.50b0 in /mnt/sdb/savanna/Repositories/RAG/venv/lib/python3.10/site-packages (from opentelemetry-instrumentation-fastapi>=0.41b0->chromadb) (0.50b0)\n",
      "Requirement already satisfied: wrapt<2.0.0,>=1.0.0 in /mnt/sdb/savanna/Repositories/RAG/venv/lib/python3.10/site-packages (from opentelemetry-instrumentation==0.50b0->opentelemetry-instrumentation-fastapi>=0.41b0->chromadb) (1.17.2)\n",
      "Requirement already satisfied: asgiref~=3.0 in /mnt/sdb/savanna/Repositories/RAG/venv/lib/python3.10/site-packages (from opentelemetry-instrumentation-asgi==0.50b0->opentelemetry-instrumentation-fastapi>=0.41b0->chromadb) (3.8.1)\n",
      "Requirement already satisfied: monotonic>=1.5 in /mnt/sdb/savanna/Repositories/RAG/venv/lib/python3.10/site-packages (from posthog>=2.4.0->chromadb) (1.6)\n",
      "Requirement already satisfied: backoff>=1.10.0 in /mnt/sdb/savanna/Repositories/RAG/venv/lib/python3.10/site-packages (from posthog>=2.4.0->chromadb) (2.2.1)\n",
      "Requirement already satisfied: annotated-types>=0.6.0 in /mnt/sdb/savanna/Repositories/RAG/venv/lib/python3.10/site-packages (from pydantic<3.0.0,>=2.7.4->langchain) (0.7.0)\n",
      "Requirement already satisfied: pydantic-core==2.27.2 in /mnt/sdb/savanna/Repositories/RAG/venv/lib/python3.10/site-packages (from pydantic<3.0.0,>=2.7.4->langchain) (2.27.2)\n",
      "Requirement already satisfied: charset-normalizer<4,>=2 in /mnt/sdb/savanna/Repositories/RAG/venv/lib/python3.10/site-packages (from requests<3,>=2->langchain) (3.4.1)\n",
      "Requirement already satisfied: pygments<3.0.0,>=2.13.0 in /mnt/sdb/savanna/Repositories/RAG/venv/lib/python3.10/site-packages (from rich>=10.11.0->chromadb) (2.19.1)\n",
      "Requirement already satisfied: markdown-it-py>=2.2.0 in /mnt/sdb/savanna/Repositories/RAG/venv/lib/python3.10/site-packages (from rich>=10.11.0->chromadb) (3.0.0)\n",
      "Requirement already satisfied: greenlet!=0.4.17 in /mnt/sdb/savanna/Repositories/RAG/venv/lib/python3.10/site-packages (from SQLAlchemy<3,>=1.4->langchain) (3.1.1)\n",
      "Requirement already satisfied: huggingface-hub<1.0,>=0.16.4 in /mnt/sdb/savanna/Repositories/RAG/venv/lib/python3.10/site-packages (from tokenizers<=0.20.3,>=0.13.2->chromadb) (0.27.1)\n",
      "Requirement already satisfied: shellingham>=1.3.0 in /mnt/sdb/savanna/Repositories/RAG/venv/lib/python3.10/site-packages (from typer>=0.9.0->chromadb) (1.5.4)\n",
      "Requirement already satisfied: click>=8.0.0 in /mnt/sdb/savanna/Repositories/RAG/venv/lib/python3.10/site-packages (from typer>=0.9.0->chromadb) (8.1.8)\n",
      "Requirement already satisfied: watchfiles>=0.13 in /mnt/sdb/savanna/Repositories/RAG/venv/lib/python3.10/site-packages (from uvicorn[standard]>=0.18.3->chromadb) (1.0.4)\n",
      "Requirement already satisfied: python-dotenv>=0.13 in /mnt/sdb/savanna/Repositories/RAG/venv/lib/python3.10/site-packages (from uvicorn[standard]>=0.18.3->chromadb) (1.0.1)\n",
      "Requirement already satisfied: httptools>=0.6.3 in /mnt/sdb/savanna/Repositories/RAG/venv/lib/python3.10/site-packages (from uvicorn[standard]>=0.18.3->chromadb) (0.6.4)\n",
      "Requirement already satisfied: uvloop!=0.15.0,!=0.15.1,>=0.14.0 in /mnt/sdb/savanna/Repositories/RAG/venv/lib/python3.10/site-packages (from uvicorn[standard]>=0.18.3->chromadb) (0.21.0)\n",
      "Requirement already satisfied: websockets>=10.4 in /mnt/sdb/savanna/Repositories/RAG/venv/lib/python3.10/site-packages (from uvicorn[standard]>=0.18.3->chromadb) (14.2)\n",
      "Requirement already satisfied: cachetools<6.0,>=2.0.0 in /mnt/sdb/savanna/Repositories/RAG/venv/lib/python3.10/site-packages (from google-auth>=1.0.1->kubernetes>=28.1.0->chromadb) (5.5.0)\n",
      "Requirement already satisfied: rsa<5,>=3.1.4 in /mnt/sdb/savanna/Repositories/RAG/venv/lib/python3.10/site-packages (from google-auth>=1.0.1->kubernetes>=28.1.0->chromadb) (4.9)\n",
      "Requirement already satisfied: pyasn1-modules>=0.2.1 in /mnt/sdb/savanna/Repositories/RAG/venv/lib/python3.10/site-packages (from google-auth>=1.0.1->kubernetes>=28.1.0->chromadb) (0.4.1)\n",
      "Requirement already satisfied: fsspec>=2023.5.0 in /mnt/sdb/savanna/Repositories/RAG/venv/lib/python3.10/site-packages (from huggingface-hub<1.0,>=0.16.4->tokenizers<=0.20.3,>=0.13.2->chromadb) (2024.12.0)\n",
      "Requirement already satisfied: filelock in /mnt/sdb/savanna/Repositories/RAG/venv/lib/python3.10/site-packages (from huggingface-hub<1.0,>=0.16.4->tokenizers<=0.20.3,>=0.13.2->chromadb) (3.16.1)\n",
      "Requirement already satisfied: zipp>=3.20 in /mnt/sdb/savanna/Repositories/RAG/venv/lib/python3.10/site-packages (from importlib-metadata<=8.5.0,>=6.0->opentelemetry-api>=1.2.0->chromadb) (3.21.0)\n",
      "Requirement already satisfied: jsonpointer>=1.9 in /mnt/sdb/savanna/Repositories/RAG/venv/lib/python3.10/site-packages (from jsonpatch<2.0,>=1.33->langchain-core<0.4.0,>=0.3.31->langchain) (3.0.0)\n",
      "Requirement already satisfied: mdurl~=0.1 in /mnt/sdb/savanna/Repositories/RAG/venv/lib/python3.10/site-packages (from markdown-it-py>=2.2.0->rich>=10.11.0->chromadb) (0.1.2)\n",
      "Requirement already satisfied: exceptiongroup>=1.0.2 in /mnt/sdb/savanna/Repositories/RAG/venv/lib/python3.10/site-packages (from anyio->httpx>=0.27.0->chromadb) (1.2.2)\n",
      "Requirement already satisfied: humanfriendly>=9.1 in /mnt/sdb/savanna/Repositories/RAG/venv/lib/python3.10/site-packages (from coloredlogs->onnxruntime>=1.14.1->chromadb) (10.0)\n",
      "Requirement already satisfied: mpmath<1.4,>=1.1.0 in /mnt/sdb/savanna/Repositories/RAG/venv/lib/python3.10/site-packages (from sympy->onnxruntime>=1.14.1->chromadb) (1.3.0)\n",
      "Requirement already satisfied: pyasn1<0.7.0,>=0.4.6 in /mnt/sdb/savanna/Repositories/RAG/venv/lib/python3.10/site-packages (from pyasn1-modules>=0.2.1->google-auth>=1.0.1->kubernetes>=28.1.0->chromadb) (0.6.1)\n",
      "Note: you may need to restart the kernel to use updated packages.\n",
      "Requirement already satisfied: ollama in /mnt/sdb/savanna/Repositories/RAG/venv/lib/python3.10/site-packages (0.4.6)\n",
      "Requirement already satisfied: langchain-community in /mnt/sdb/savanna/Repositories/RAG/venv/lib/python3.10/site-packages (0.3.15)\n",
      "Requirement already satisfied: httpx<0.28.0,>=0.27.0 in /mnt/sdb/savanna/Repositories/RAG/venv/lib/python3.10/site-packages (from ollama) (0.27.2)\n",
      "Requirement already satisfied: pydantic<3.0.0,>=2.9.0 in /mnt/sdb/savanna/Repositories/RAG/venv/lib/python3.10/site-packages (from ollama) (2.10.5)\n",
      "Requirement already satisfied: SQLAlchemy<3,>=1.4 in /mnt/sdb/savanna/Repositories/RAG/venv/lib/python3.10/site-packages (from langchain-community) (2.0.37)\n",
      "Requirement already satisfied: tenacity!=8.4.0,<10,>=8.1.0 in /mnt/sdb/savanna/Repositories/RAG/venv/lib/python3.10/site-packages (from langchain-community) (8.5.0)\n",
      "Requirement already satisfied: langchain-core<0.4.0,>=0.3.31 in /mnt/sdb/savanna/Repositories/RAG/venv/lib/python3.10/site-packages (from langchain-community) (0.3.31)\n",
      "Requirement already satisfied: pydantic-settings<3.0.0,>=2.4.0 in /mnt/sdb/savanna/Repositories/RAG/venv/lib/python3.10/site-packages (from langchain-community) (2.7.1)\n",
      "Requirement already satisfied: langchain<0.4.0,>=0.3.15 in /mnt/sdb/savanna/Repositories/RAG/venv/lib/python3.10/site-packages (from langchain-community) (0.3.15)\n",
      "Requirement already satisfied: PyYAML>=5.3 in /mnt/sdb/savanna/Repositories/RAG/venv/lib/python3.10/site-packages (from langchain-community) (6.0.2)\n",
      "Requirement already satisfied: numpy<2,>=1.22.4 in /mnt/sdb/savanna/Repositories/RAG/venv/lib/python3.10/site-packages (from langchain-community) (1.26.4)\n",
      "Requirement already satisfied: langsmith<0.4,>=0.1.125 in /mnt/sdb/savanna/Repositories/RAG/venv/lib/python3.10/site-packages (from langchain-community) (0.1.147)\n",
      "Requirement already satisfied: requests<3,>=2 in /mnt/sdb/savanna/Repositories/RAG/venv/lib/python3.10/site-packages (from langchain-community) (2.32.3)\n",
      "Requirement already satisfied: httpx-sse<0.5.0,>=0.4.0 in /mnt/sdb/savanna/Repositories/RAG/venv/lib/python3.10/site-packages (from langchain-community) (0.4.0)\n",
      "Requirement already satisfied: aiohttp<4.0.0,>=3.8.3 in /mnt/sdb/savanna/Repositories/RAG/venv/lib/python3.10/site-packages (from langchain-community) (3.11.11)\n",
      "Requirement already satisfied: dataclasses-json<0.7,>=0.5.7 in /mnt/sdb/savanna/Repositories/RAG/venv/lib/python3.10/site-packages (from langchain-community) (0.6.7)\n",
      "Requirement already satisfied: attrs>=17.3.0 in /mnt/sdb/savanna/Repositories/RAG/venv/lib/python3.10/site-packages (from aiohttp<4.0.0,>=3.8.3->langchain-community) (24.3.0)\n",
      "Requirement already satisfied: propcache>=0.2.0 in /mnt/sdb/savanna/Repositories/RAG/venv/lib/python3.10/site-packages (from aiohttp<4.0.0,>=3.8.3->langchain-community) (0.2.1)\n",
      "Requirement already satisfied: aiosignal>=1.1.2 in /mnt/sdb/savanna/Repositories/RAG/venv/lib/python3.10/site-packages (from aiohttp<4.0.0,>=3.8.3->langchain-community) (1.3.2)\n",
      "Requirement already satisfied: yarl<2.0,>=1.17.0 in /mnt/sdb/savanna/Repositories/RAG/venv/lib/python3.10/site-packages (from aiohttp<4.0.0,>=3.8.3->langchain-community) (1.18.3)\n",
      "Requirement already satisfied: aiohappyeyeballs>=2.3.0 in /mnt/sdb/savanna/Repositories/RAG/venv/lib/python3.10/site-packages (from aiohttp<4.0.0,>=3.8.3->langchain-community) (2.4.4)\n",
      "Requirement already satisfied: async-timeout<6.0,>=4.0 in /mnt/sdb/savanna/Repositories/RAG/venv/lib/python3.10/site-packages (from aiohttp<4.0.0,>=3.8.3->langchain-community) (4.0.3)\n",
      "Requirement already satisfied: multidict<7.0,>=4.5 in /mnt/sdb/savanna/Repositories/RAG/venv/lib/python3.10/site-packages (from aiohttp<4.0.0,>=3.8.3->langchain-community) (6.1.0)\n",
      "Requirement already satisfied: frozenlist>=1.1.1 in /mnt/sdb/savanna/Repositories/RAG/venv/lib/python3.10/site-packages (from aiohttp<4.0.0,>=3.8.3->langchain-community) (1.5.0)\n",
      "Requirement already satisfied: typing-inspect<1,>=0.4.0 in /mnt/sdb/savanna/Repositories/RAG/venv/lib/python3.10/site-packages (from dataclasses-json<0.7,>=0.5.7->langchain-community) (0.9.0)\n",
      "Requirement already satisfied: marshmallow<4.0.0,>=3.18.0 in /mnt/sdb/savanna/Repositories/RAG/venv/lib/python3.10/site-packages (from dataclasses-json<0.7,>=0.5.7->langchain-community) (3.25.1)\n",
      "Requirement already satisfied: certifi in /mnt/sdb/savanna/Repositories/RAG/venv/lib/python3.10/site-packages (from httpx<0.28.0,>=0.27.0->ollama) (2024.12.14)\n",
      "Requirement already satisfied: anyio in /mnt/sdb/savanna/Repositories/RAG/venv/lib/python3.10/site-packages (from httpx<0.28.0,>=0.27.0->ollama) (4.8.0)\n",
      "Requirement already satisfied: httpcore==1.* in /mnt/sdb/savanna/Repositories/RAG/venv/lib/python3.10/site-packages (from httpx<0.28.0,>=0.27.0->ollama) (1.0.7)\n",
      "Requirement already satisfied: sniffio in /mnt/sdb/savanna/Repositories/RAG/venv/lib/python3.10/site-packages (from httpx<0.28.0,>=0.27.0->ollama) (1.3.1)\n",
      "Requirement already satisfied: idna in /mnt/sdb/savanna/Repositories/RAG/venv/lib/python3.10/site-packages (from httpx<0.28.0,>=0.27.0->ollama) (3.10)\n",
      "Requirement already satisfied: h11<0.15,>=0.13 in /mnt/sdb/savanna/Repositories/RAG/venv/lib/python3.10/site-packages (from httpcore==1.*->httpx<0.28.0,>=0.27.0->ollama) (0.14.0)\n",
      "Requirement already satisfied: langchain-text-splitters<0.4.0,>=0.3.3 in /mnt/sdb/savanna/Repositories/RAG/venv/lib/python3.10/site-packages (from langchain<0.4.0,>=0.3.15->langchain-community) (0.3.5)\n",
      "Requirement already satisfied: jsonpatch<2.0,>=1.33 in /mnt/sdb/savanna/Repositories/RAG/venv/lib/python3.10/site-packages (from langchain-core<0.4.0,>=0.3.31->langchain-community) (1.33)\n",
      "Requirement already satisfied: typing-extensions>=4.7 in /mnt/sdb/savanna/Repositories/RAG/venv/lib/python3.10/site-packages (from langchain-core<0.4.0,>=0.3.31->langchain-community) (4.12.2)\n",
      "Requirement already satisfied: packaging<25,>=23.2 in /mnt/sdb/savanna/Repositories/RAG/venv/lib/python3.10/site-packages (from langchain-core<0.4.0,>=0.3.31->langchain-community) (24.2)\n",
      "Requirement already satisfied: orjson<4.0.0,>=3.9.14 in /mnt/sdb/savanna/Repositories/RAG/venv/lib/python3.10/site-packages (from langsmith<0.4,>=0.1.125->langchain-community) (3.10.15)\n",
      "Requirement already satisfied: requests-toolbelt<2.0.0,>=1.0.0 in /mnt/sdb/savanna/Repositories/RAG/venv/lib/python3.10/site-packages (from langsmith<0.4,>=0.1.125->langchain-community) (1.0.0)\n",
      "Requirement already satisfied: pydantic-core==2.27.2 in /mnt/sdb/savanna/Repositories/RAG/venv/lib/python3.10/site-packages (from pydantic<3.0.0,>=2.9.0->ollama) (2.27.2)\n",
      "Requirement already satisfied: annotated-types>=0.6.0 in /mnt/sdb/savanna/Repositories/RAG/venv/lib/python3.10/site-packages (from pydantic<3.0.0,>=2.9.0->ollama) (0.7.0)\n",
      "Requirement already satisfied: python-dotenv>=0.21.0 in /mnt/sdb/savanna/Repositories/RAG/venv/lib/python3.10/site-packages (from pydantic-settings<3.0.0,>=2.4.0->langchain-community) (1.0.1)\n",
      "Requirement already satisfied: urllib3<3,>=1.21.1 in /mnt/sdb/savanna/Repositories/RAG/venv/lib/python3.10/site-packages (from requests<3,>=2->langchain-community) (2.3.0)\n",
      "Requirement already satisfied: charset-normalizer<4,>=2 in /mnt/sdb/savanna/Repositories/RAG/venv/lib/python3.10/site-packages (from requests<3,>=2->langchain-community) (3.4.1)\n",
      "Requirement already satisfied: greenlet!=0.4.17 in /mnt/sdb/savanna/Repositories/RAG/venv/lib/python3.10/site-packages (from SQLAlchemy<3,>=1.4->langchain-community) (3.1.1)\n",
      "Requirement already satisfied: jsonpointer>=1.9 in /mnt/sdb/savanna/Repositories/RAG/venv/lib/python3.10/site-packages (from jsonpatch<2.0,>=1.33->langchain-core<0.4.0,>=0.3.31->langchain-community) (3.0.0)\n",
      "Requirement already satisfied: mypy-extensions>=0.3.0 in /mnt/sdb/savanna/Repositories/RAG/venv/lib/python3.10/site-packages (from typing-inspect<1,>=0.4.0->dataclasses-json<0.7,>=0.5.7->langchain-community) (1.0.0)\n",
      "Requirement already satisfied: exceptiongroup>=1.0.2 in /mnt/sdb/savanna/Repositories/RAG/venv/lib/python3.10/site-packages (from anyio->httpx<0.28.0,>=0.27.0->ollama) (1.2.2)\n",
      "Note: you may need to restart the kernel to use updated packages.\n",
      "Requirement already satisfied: docker in /mnt/sdb/savanna/Repositories/RAG/venv/lib/python3.10/site-packages (7.1.0)\n",
      "Requirement already satisfied: requests>=2.26.0 in /mnt/sdb/savanna/Repositories/RAG/venv/lib/python3.10/site-packages (from docker) (2.32.3)\n",
      "Requirement already satisfied: urllib3>=1.26.0 in /mnt/sdb/savanna/Repositories/RAG/venv/lib/python3.10/site-packages (from docker) (2.3.0)\n",
      "Requirement already satisfied: certifi>=2017.4.17 in /mnt/sdb/savanna/Repositories/RAG/venv/lib/python3.10/site-packages (from requests>=2.26.0->docker) (2024.12.14)\n",
      "Requirement already satisfied: charset-normalizer<4,>=2 in /mnt/sdb/savanna/Repositories/RAG/venv/lib/python3.10/site-packages (from requests>=2.26.0->docker) (3.4.1)\n",
      "Requirement already satisfied: idna<4,>=2.5 in /mnt/sdb/savanna/Repositories/RAG/venv/lib/python3.10/site-packages (from requests>=2.26.0->docker) (3.10)\n",
      "Note: you may need to restart the kernel to use updated packages.\n"
     ]
    }
   ],
   "source": [
    "%pip install requests pypdf tiktoken\n",
    "%pip install langchain langchain-chroma chromadb\n",
    "%pip install ollama langchain-community\n",
    "%pip install docker"
   ]
  },
  {
   "cell_type": "markdown",
   "metadata": {},
   "source": [
    "Запустим локальную модель для начала"
   ]
  },
  {
   "cell_type": "code",
   "execution_count": null,
   "metadata": {},
   "outputs": [],
   "source": [
    "!/usr/bin/bash up_ollama.sh\n",
    "import docker\n",
    "\n",
    "\n",
    "def is_container_running(container_name: str):\n",
    "    \"\"\"Verify the status of a container by it's name\n",
    "\n",
    "    :param container_name: the name of the container\n",
    "    :return: boolean or None\n",
    "    \"\"\"\n",
    "    RUNNING = \"running\"\n",
    "    docker_client = docker.from_env()\n",
    "    try:\n",
    "        container = docker_client.containers.get(container_name)\n",
    "    except docker.errors.NotFound as exc:\n",
    "        print(f\"Check container name!\\n{exc.explanation}\")\n",
    "    else:\n",
    "        container_state = container.attrs[\"State\"]\n",
    "        return container_state[\"Status\"] == RUNNING\n",
    "\n",
    "import time\n",
    "while not is_container_running(\"ollama\"):\n",
    "    time.sleep(10)"
   ]
  },
  {
   "cell_type": "code",
   "execution_count": null,
   "metadata": {},
   "outputs": [],
   "source": [
    "!docker exec ollama ollama run llama3"
   ]
  },
  {
   "cell_type": "code",
   "execution_count": 1,
   "metadata": {},
   "outputs": [],
   "source": [
    "import os\n",
    "\n",
    "model_name = \"llama3\"\n",
    "url = \"http://0.0.0.0:11434\" "
   ]
  },
  {
   "cell_type": "markdown",
   "metadata": {},
   "source": [
    "## Подготовка базы данных"
   ]
  },
  {
   "cell_type": "code",
   "execution_count": 2,
   "metadata": {},
   "outputs": [],
   "source": [
    "def normalize(text):\n",
    "    return (\n",
    "        text\n",
    "        .replace('«','')\n",
    "        .replace('»','')\n",
    "        .replace('\"','')\n",
    "        .replace('<','')\n",
    "        .replace('>','')\n",
    "    )\n"
   ]
  },
  {
   "cell_type": "code",
   "execution_count": 3,
   "metadata": {},
   "outputs": [],
   "source": [
    "with open('./text_db/formal_languages.txt',encoding='utf-8') as f:\n",
    "    formal = ''.join(f.readlines())\n",
    "\n",
    "formal = [normalize(x) for x in formal.split('-----')]"
   ]
  },
  {
   "cell_type": "code",
   "execution_count": 4,
   "metadata": {},
   "outputs": [],
   "source": [
    "reduced_fragments = set(formal)"
   ]
  },
  {
   "cell_type": "markdown",
   "metadata": {},
   "source": [
    "## Подготовка модели"
   ]
  },
  {
   "cell_type": "code",
   "execution_count": 7,
   "metadata": {},
   "outputs": [],
   "source": [
    "import requests\n",
    "\n",
    "def get_ollama_embeddings(text):\n",
    "\tresponse = requests.post(f\"{url}/api/embeddings\", json={\n",
    "\t\t\"model\": model_name,\n",
    "\t\t\"prompt\": text\n",
    "\t})\n",
    "\n",
    "\treturn response.json().get(\"embedding\")\n"
   ]
  },
  {
   "cell_type": "code",
   "execution_count": 8,
   "metadata": {},
   "outputs": [],
   "source": [
    "from langchain_chroma import Chroma\n",
    "from chromadb import Documents, EmbeddingFunction, Embeddings\n",
    "from chromadb.types import Vector\n",
    "\n",
    "class MyEmbeddingFunction(EmbeddingFunction):\n",
    "    @staticmethod\n",
    "    def embed_documents(input: Documents) -> Embeddings:\n",
    "        \n",
    "        return [get_ollama_embeddings(text) for text in input]\n",
    "    \n",
    "    @staticmethod\n",
    "    def embed_query(query: str) -> Vector:\n",
    "        return get_ollama_embeddings(query)\n"
   ]
  },
  {
   "cell_type": "code",
   "execution_count": 9,
   "metadata": {},
   "outputs": [],
   "source": [
    "import chromadb\n",
    "from chromadb.errors import InvalidDimensionException\n",
    "\n",
    "db_dirname = \"./chromadb\"\n",
    "if not os.path.exists(db_dirname):\n",
    "    chromadb.api.client.SharedSystemClient.clear_system_cache()\n",
    "\n",
    "    try:\n",
    "        db = Chroma.from_texts(list(reduced_fragments), embedding=MyEmbeddingFunction, persist_directory=db_dirname)\n",
    "    except InvalidDimensionException:\n",
    "        Chroma().delete_collection()\n",
    "        db = Chroma.from_texts(list(reduced_fragments), embedding=MyEmbeddingFunction, persist_directory=db_dirname)\n",
    "else:\n",
    "    db = Chroma(embedding_function=MyEmbeddingFunction, persist_directory=db_dirname)\n",
    "\n"
   ]
  },
  {
   "cell_type": "markdown",
   "metadata": {},
   "source": [
    "## Настройка RAG-конвейера"
   ]
  },
  {
   "cell_type": "code",
   "execution_count": 10,
   "metadata": {},
   "outputs": [],
   "source": [
    "import langchain.chains\n",
    "import langchain.prompts\n",
    "from ollama import Client\n",
    "from langchain_core.output_parsers import StrOutputParser\n",
    "from langchain_core.runnables import RunnablePassthrough\n",
    "from langchain_core.runnables import RunnablePassthrough\n",
    "\n",
    "import typing as tp\n",
    "from langchain_core.language_models.llms import LLM\n",
    "\n",
    "class CustomLlama(LLM):\n",
    "    def _call(self, prompt, **kwargs):\n",
    "        client = Client(\n",
    "            host=url\n",
    "        )\n",
    "        response = client.chat(model=model_name, messages=[\n",
    "            {\n",
    "                'role': 'user',\n",
    "                'content': prompt,\n",
    "            },\n",
    "        ])\n",
    "\n",
    "        return response.message.content\n",
    "\n",
    "    @property\n",
    "    def _identifying_params(self) -> tp.Dict[str, tp.Any]:\n",
    "        \"\"\"Return a dictionary of identifying parameters.\"\"\"\n",
    "        return {\n",
    "            \"model_name\": \"CustomChatModel\",\n",
    "        }\n",
    "\n",
    "    @property\n",
    "    def _llm_type(self) -> str:\n",
    "        \"\"\"Get the type of language model used by this chat model. Used for logging purposes only.\"\"\"\n",
    "        return \"custom\"\n",
    "\n",
    "ollama_llm = CustomLlama()\n",
    "\n",
    "prompt = \"\"\"\n",
    "Ты — русскоязычный ассистент. Пожалуйста, посмотри на текст ниже и ответь на вопрос, используя информацию из этого текста. Если в тексте нет нужной информации, напиши, что не нашёл ответ на заданный вопрос. Выведи только\n",
    "краткий ответ, не надо пояснительного текста. Отвечай только на поставленный вопрос. Пожалуйста, отвечай на вопросы только на русском языке.\n",
    "Текст:\n",
    "-----\n",
    "{context}\n",
    "-----\n",
    "Вопрос:\n",
    "{question}\"\"\"\n",
    "\n",
    "prompt = langchain.prompts.PromptTemplate(\n",
    "    template=prompt, input_variables=[\"context\", \"question\"]\n",
    ")\n",
    "\n",
    "def join_docs(docs):\n",
    "    return \"\\n\\n\".join(doc.page_content for doc in docs)"
   ]
  },
  {
   "cell_type": "markdown",
   "metadata": {},
   "source": [
    "## Тестирование"
   ]
  },
  {
   "cell_type": "code",
   "execution_count": 11,
   "metadata": {},
   "outputs": [
    {
     "name": "stderr",
     "output_type": "stream",
     "text": [
      "Number of requested results 20 is greater than number of elements in index 17, updating n_results = 17\n"
     ]
    }
   ],
   "source": [
    "question = \"Дай определение ДКА\"\n",
    "retriever = db.as_retriever(search_type=\"mmr\", search_kwargs={\"k\": 5})\n",
    "res = retriever.invoke(question)"
   ]
  },
  {
   "cell_type": "code",
   "execution_count": 12,
   "metadata": {},
   "outputs": [],
   "source": [
    "chain = (\n",
    "    {\"context\": retriever | join_docs, \"question\": RunnablePassthrough()}\n",
    "    | prompt\n",
    "    | ollama_llm\n",
    "    | StrOutputParser()\n",
    ")"
   ]
  },
  {
   "cell_type": "code",
   "execution_count": 13,
   "metadata": {},
   "outputs": [
    {
     "name": "stderr",
     "output_type": "stream",
     "text": [
      "Number of requested results 20 is greater than number of elements in index 17, updating n_results = 17\n"
     ]
    },
    {
     "name": "stdout",
     "output_type": "stream",
     "text": [
      "ДКА (Deterministic Finite Automaton) - это автомат, который принимает входную строку символов и на основе этой строки производит вывод. В отличие от НФА (Nondeterministic Finite Automaton), у ДКА есть конкретный переход из любого состояния в любое другое состояние, если введен соответствующий символ.\n",
      "\n",
      "ДКА имеет следующие компоненты:\n",
      "\n",
      "* Q - множество состояний\n",
      "* Σ - алфавит\n",
      "* δ (дельта) - функция перехода, которая принимает два аргумента: текущее состояние и символ из алфавита, и возвращает следующее состояние\n",
      "* q0 - начальное состояние\n",
      "* F - множество терминальных состояний\n",
      "\n",
      "ДКА работает следующим образом:\n",
      "\n",
      "1. Начинается с начального состояния q0.\n",
      "2. Вводится символ из алфавита.\n",
      "3. Автомат переходит в новое состояние, определенное функцией δ по текущему состоянии и введенному символу.\n",
      "4. Процесс повторяется до тех пор, пока не будет достигнуто терминальное состояние (например, когда автомат принимает пустую строку).\n",
      "5. Выводом является последовательность состояний, которые были пройдены до достижения терминального состояния.\n",
      "\n",
      "Также ДКА может быть задано как таблица переходов между состояниями, где каждая ячейка содержит информацию о переходе из одного состояния в другое при введении соответствующего символа.\n"
     ]
    }
   ],
   "source": [
    "result = chain.invoke(question)\n",
    "print(result)"
   ]
  },
  {
   "cell_type": "code",
   "execution_count": null,
   "metadata": {},
   "outputs": [],
   "source": [
    "question = \"Напиши определение изоморфизма автоматов\"\n",
    "retriever = db.as_retriever(search_type=\"mmr\", search_kwargs={\"k\": 5})\n",
    "res = retriever.invoke(question)\n",
    "\n",
    "chain = (\n",
    "    {\"context\": retriever | join_docs, \"question\": RunnablePassthrough()}\n",
    "    | prompt\n",
    "    | ollama_llm\n",
    "    | StrOutputParser()\n",
    ")"
   ]
  },
  {
   "cell_type": "code",
   "execution_count": null,
   "metadata": {},
   "outputs": [
    {
     "name": "stderr",
     "output_type": "stream",
     "text": [
      "Number of requested results 20 is greater than number of elements in index 17, updating n_results = 17\n"
     ]
    },
    {
     "name": "stdout",
     "output_type": "stream",
     "text": [
      "Автоматы называются '''изоморфными''' (англ. ''isomorphic''), если существует [[Отображения | биекция]] между их вершинами такая, что:\n",
      "\n",
      "1. Терминальные состояния соответствуют терминальным;\n",
      "2. Начальные состояния соответствуют начальным;\n",
      "3. Все переходы сохраняются: из одного состояния в другое может перейти только то же самое состояние в другом автомате, если существуют оба перехода.\n",
      "\n",
      "В других словах, изоморфизм автоматов означает, что есть биективное отображение между вершинами (состояниями) первого автомата на вершины второго автомата, при котором терминальные состояния остаются терминальными, начальные — начальными, и все переходы сохраняются.\n"
     ]
    }
   ],
   "source": [
    "result = chain.invoke(question)\n",
    "print(result)"
   ]
  },
  {
   "cell_type": "code",
   "execution_count": null,
   "metadata": {},
   "outputs": [],
   "source": [
    "question = \"Кто такие покемоны?\"\n",
    "retriever = db.as_retriever(search_type=\"mmr\", search_kwargs={\"k\": 5})\n",
    "res = retriever.invoke(question)\n",
    "\n",
    "chain = (\n",
    "    {\"context\": retriever | join_docs, \"question\": RunnablePassthrough()}\n",
    "    | prompt\n",
    "    | ollama_llm\n",
    "    | StrOutputParser()\n",
    ")"
   ]
  },
  {
   "cell_type": "code",
   "execution_count": 20,
   "metadata": {},
   "outputs": [
    {
     "name": "stderr",
     "output_type": "stream",
     "text": [
      "Number of requested results 20 is greater than number of elements in index 17, updating n_results = 17\n"
     ]
    },
    {
     "name": "stdout",
     "output_type": "stream",
     "text": [
      "Я не знаю, кто такие покемоны. В моей базе знаний нет информации об этом тематике. Моя задача - помочь с вопросами по теории формальных языков и грамматиках. Если у вас есть какие-то вопросы или проблемы в этой области, я готов помочь!\n"
     ]
    }
   ],
   "source": [
    "result = chain.invoke(q)\n",
    "print(result)"
   ]
  },
  {
   "cell_type": "markdown",
   "metadata": {},
   "source": [
    "## Вывод\n",
    "\n",
    "За исключением того, что модель ошибается в написании и формировании русских слов, она даёт правильные ответы на поставленные вопросы."
   ]
  }
 ],
 "metadata": {
  "kernelspec": {
   "display_name": "venv",
   "language": "python",
   "name": "python3"
  },
  "language_info": {
   "codemirror_mode": {
    "name": "ipython",
    "version": 3
   },
   "file_extension": ".py",
   "mimetype": "text/x-python",
   "name": "python",
   "nbconvert_exporter": "python",
   "pygments_lexer": "ipython3",
   "version": "3.10.12"
  }
 },
 "nbformat": 4,
 "nbformat_minor": 2
}
